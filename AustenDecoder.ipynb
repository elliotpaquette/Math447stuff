{
  "cells": [
    {
      "cell_type": "markdown",
      "metadata": {
        "colab_type": "text",
        "id": "view-in-github"
      },
      "source": [
        "<a href=\"https://colab.research.google.com/github/elliotpaquette/Math447stuff/blob/main/AustenDecoder.ipynb\" target=\"_parent\"><img src=\"https://colab.research.google.com/assets/colab-badge.svg\" alt=\"Open In Colab\"/></a>"
      ]
    },
    {
      "cell_type": "markdown",
      "metadata": {
        "id": "qZq22khy9I_S"
      },
      "source": [
        "**The python version of decipher example**\n",
        "\n",
        "The first script encodes.  The second decodes.\n",
        "\n",
        "To run the decryption, you need the file AustenCount.txt, which was made by Dobrow and which is available at:\n",
        "https://github.com/elliotpaquette/Math447stuff/blob/main/AustenCount.txt\n",
        "It contains nearest-neighbor letter pair (a-z and ' ') frequencies from the complete works of Jane Austen.  \n",
        "\n",
        "If using google colab, you can put it in your google drive which will be mounted by default at /content/drive/MyDrive.  You'll need to adjust the path used below.\n",
        "\n",
        "\n",
        "\n"
      ]
    },
    {
      "cell_type": "code",
      "execution_count": 1,
      "metadata": {
        "colab": {
          "base_uri": "https://localhost:8080/"
        },
        "id": "RJXZ84nfMiP-",
        "outputId": "688ff0dd-e893-4758-dbc5-1d1adfda7ef5"
      },
      "outputs": [],
      "source": [
        "#from google.colab import drive\n",
        "#drive.mount('/content/drive')\n",
        "#path='/content/drive/MyDrive/ColabTemp/AustenCount.txt'\n",
        "PATH ='./AustenCount.txt'"
      ]
    },
    {
      "cell_type": "markdown",
      "metadata": {
        "id": "szNXD5TtABcx"
      },
      "source": [
        "This tests loading the AustenCount file and encrypts a string (they have nothing to do with one another)."
      ]
    },
    {
      "cell_type": "code",
      "execution_count": 2,
      "metadata": {
        "colab": {
          "base_uri": "https://localhost:8080/"
        },
        "id": "abV3F9lK9Kx7",
        "outputId": "01a9add5-9a50-49e2-edc5-9f21839f3142"
      },
      "outputs": [
        {
          "name": "stdout",
          "output_type": "stream",
          "text": [
            "       a      b      c      d      e      f      g      h      i     j  ...  \\\n",
            "a    117   6669   7227  15101     36   2776   5505    123  10110    16  ...   \n",
            "b   2385    208      0     35  23837      0      0     27   1207   933  ...   \n",
            "c   8527      5   1843     24  14648      0      0  14953   3366     0  ...   \n",
            "d   4539     10      8   1234  16181    149    839    337  10164    19  ...   \n",
            "e  20863    269   9427  32733  13287   3902   2094    782   6315   190  ...   \n",
            "f   6138      0      1      0   7675   3513      0      0   5242     0  ...   \n",
            "g   3958     91      0     28   8326     29    264   9912   3481     0  ...   \n",
            "h  39294    539      0     34  92779     64      0     59  27121     0  ...   \n",
            "i   3838   1758   9101   8072   9043   4663   6159     17    161     0  ...   \n",
            "j    838      0      0      0   1526      0      0      0      4     0  ...   \n",
            "k     91      4      3      1   6394    178     10    204   2926     0  ...   \n",
            "l   9517     32    197  12054  21439   3892    165      7  15201     0  ...   \n",
            "m  13719   1058      1     30  20516    570      0      3   9982     0  ...   \n",
            "n   3696    144   9964  39348  21922   1490  30971    240   5969   469  ...   \n",
            "o    665   2288   1519   4474    588  25136    741    967   2446   121  ...   \n",
            "p   6499     87      0      2  10857      1     12    494   2888     0  ...   \n",
            "q      0      0      0      0      0      0      0      0      0     0  ...   \n",
            "r  10731    248   2360   5587  46153   1288   1186    663  14415     5  ...   \n",
            "s   8746    258   2103    132  24430    821    308  18738  12810     1  ...   \n",
            "t  10294     11    724      4  26143    535     10  84923  20053     0  ...   \n",
            "u   2769   1604   6160   1551   2326    443   5429      0   2963     0  ...   \n",
            "v   1985      0      0      0  28729      0      0      0   5279     0  ...   \n",
            "w  18305     31      6     56  12049    662      3  13437  14423     0  ...   \n",
            "x    428      0   1025      0    460     33      0     36    657     0  ...   \n",
            "y    153    282      1    192   2667     57      0      4   1036     0  ...   \n",
            "z    812      0      0      0    368      0      5      0     60     0  ...   \n",
            "   90186  38500  30550  22668  21173  28813  12102  66548  56120  3442  ...   \n",
            "\n",
            "       r      s       t      u     v      w     x      y     z          \n",
            "a  25852  30361   34836   2725  8924   2796   274   7976   155   16327  \n",
            "b   2291    911     618   7246     9      1     0   4267     0      61  \n",
            "c   2849     48    7661   2619     0      0     0   1289     0     326  \n",
            "d   1822   2927       9   1644   535    445     0   2619     0   80200  \n",
            "e  70758  23901   12353    118  9385   2360  4406   5746    13  125631  \n",
            "f   5580     30    2521   2439     0      0     0    247     0   28114  \n",
            "g   4750   1636     217   1231     0      0     0    128     1   22397  \n",
            "h   1160    378    6381   1682     0    535     0    522     0   20474  \n",
            "i   9590  28335   31882    113  5066      5   454      0  1129   13833  \n",
            "j      0      0       0   1607     0      0     0      0     0       0  \n",
            "k      1    786       0      1     2     70     0     98     0    5039  \n",
            "l    300   1410    2533   1855   682    884     0  14280     0   16351  \n",
            "m   5681   2031      73   5539     1      2     0   4745     0   11654  \n",
            "n    504   8726   20964   1194  1433    392   304   4983     9   49530  \n",
            "o  28862   6739   17477  40012  3664  11958   140    691    33   40230  \n",
            "p   8426    852    2223   1167     0      3     0    743     0    1671  \n",
            "q      1      0       0   4132     0      0     0      0     0       0  \n",
            "r   4456  12965    9877   2266  1354    535     0   9794     0   50263  \n",
            "s     32  11932   23169   9639     3    781     0    461     0   65458  \n",
            "t   5911   4130    7107   4616     0   1936     2   4549    46   76415  \n",
            "u  15071  12319   12546      0    10      0    40     33    33    7389  \n",
            "v      7      0       1     36     0      0     0    112     0      51  \n",
            "w    787    544       9      2     0     12     0     10     0    6774  \n",
            "x      0     32     850     53    62      1   128      4     0     396  \n",
            "y     39   2814     827      0     0     65     0      0     0   47635  \n",
            "z      0      0       0      6     1     37     0    104   137      13  \n",
            "   14877  58888  102869   6970  6504  57628   186  14102    28       0  \n",
            "\n",
            "[27 rows x 27 columns]\n",
            "tywnozyecoemd jcenwsaecjyemdpfcepswyeomemd jcenwsaedfelosevoekocecbwrebaoscemd jcenwsaecjyefynokvepswyeomemd jcenwsaedfelosevoekocecbwrebaoscemd jcenwsa\n"
          ]
        }
      ],
      "source": [
        "import numpy as np\n",
        "import numpy.random as npr\n",
        "import numpy.linalg as npa\n",
        "import matplotlib.pyplot as plt\n",
        "\n",
        "import pandas\n",
        "import requests\n",
        "\n",
        "import time\n",
        "\n",
        "from IPython.display import clear_output\n",
        "\n",
        "#scrambled = ' hvptbhwqtwxjcoqwpverwqohwxjmzqwmevhwtxwxjcoqwpverwjzwytewktwitqwqsvlwsrteqwxjcoqwpverwqohwzhptikwmevhwtxwxjcoqwpverwjzwytewktwitqwqsvlwsrteqwxjcoqwpverwqojmkwmevhwtxwxjcoqwpverwztbhtihwyhvvzwzqtuwcthzwvjbuwqsuzwteqwqohwxjcoqwjzwtghmwxtemqowmevhwtivywq twzqekhiqzwqtwswxjcoqwxjxqowmevhwtihwxjcoqwsqwswqjbhwbsmqvhqzwzjnqowmevhwitwzojmqzwitwzothzwzhghiqowmevhwxjcoqzw jvvwctwtiwszwvticwszwqohywosghwqtwsikwqohwhjcoqowsikwxjisvwmevhwjxwqojzwjzwytemwxjmzqwijcoqwsqwxjcoqwpverwytewosghwqtwxjcoq'\n",
        "original = 'welcome to fight club the first rule of fight club is you do not talk about fight club the second rule of fight club is you do not talk about fight club'# third rule of fight club someone yells stop goes limp taps out the fight is over fourth rule only two students to a fight fifth rule one fight at a time martlets sixth rule no shirts no shoes seventh rule fights will go on as long as they have to and the eighth and final rule if this is your first night at fight club you have to fight also i really needed some extra words so i decided to add a bunch of random stuff at the end about probability and white rabbits and how coincidences are sometimes explained by randomness also zebras have stripes which are very cool and known well to prevent them from attack by jaguars'\n",
        "#original = 'i know why you are here mcgill neo i know what you have been doing why you hardly sleep why you live alone and why night after night you sit by your computer you are looking for mycourses updates i know because i was once looking for the same thing and when maxime rvc found me he told me i was not really looking for him i was looking for an answer it is the question that drives us mcgill neo it is the question that brought you here you know the question just as i did what is the matrix the answer is out there mcgill neo and it is looking for you and it will find you if you want it to coincidences in general are great stumbling blocks in the way of that class of thinkers who have been educated to know nothing of the theory of probabilities that theory to which the most glorious objects of human research are indebted for the most glorious of illustrations edgar allen poe the murders in the rue morgue morpheus this is your last chance after this there is no turning back you take the blue pill the story ends you wake up in your bed and believe whatever you want to believe you take the red pill you stay in wonderland and i show you how deep the rabbit hole goes'\n",
        "s=np.array(list(original))\n",
        "\n",
        "\n",
        "clear_output(wait=True)\n",
        "\n",
        "#time.sleep(0.5)\n",
        "\n",
        "#print(npa.matrix_power(P,2))\n",
        "\n",
        "#clear_output(wait=True)\n",
        "\n",
        "df = pandas.read_csv(PATH,sep='\\t',header=None)\n",
        "alphabeta = ['a','b','c','d','e','f','g','h','i','j','k','l','m','n','o','p','q','r','s','t','u','v','w','x','y','z',' ']\n",
        "dalphanum = dict(zip(alphabeta, np.arange(0,27)))\n",
        "dnumalpha = dict(zip(np.arange(0,27),alphabeta))\n",
        "df=df.rename(index=dnumalpha,columns=dnumalpha)\n",
        "print(df)\n",
        "\n",
        "n=1000\n",
        "for j in range(n):\n",
        "  swap = npr.choice(alphabeta,size=2,replace=False)\n",
        "  s0 = np.where(s==swap[0])\n",
        "  s1 = np.where(s==swap[1])\n",
        "  s[s0] = swap[1]\n",
        "  s[s1] = swap[0]\n",
        "  #print(''.join(s[1:50]))\n",
        "  #clear_output(wait=True)\n",
        "  #time.sleep(0.1)\n",
        "\n",
        "print(''.join(s))\n",
        "\n"
      ]
    },
    {
      "cell_type": "markdown",
      "metadata": {
        "id": "-FsP7_p9NK3C"
      },
      "source": [
        "Decode"
      ]
    },
    {
      "cell_type": "code",
      "execution_count": 25,
      "metadata": {
        "colab": {
          "base_uri": "https://localhost:8080/"
        },
        "id": "UYro71BmNMt8",
        "outputId": "46f81ba5-9197-4e56-91cc-8fac52927abe"
      },
      "outputs": [
        {
          "data": {
            "text/html": [
              "    [8948]we<span style=\"color: red\">r</span>come to fight c<span style=\"color: red\">r</span>up the\n",
              "    fi<span style=\"color: red\">l</span>st <span style=\"color: red\">l</span>u<span style=\"color:\n",
              "    red\">r</span>e of fight c<span style=\"color: red\">r</span>up is you do not ta<span style=\"color:\n",
              "    red\">r</span>k apout fight c<span style=\"color: red\">r</span>up the second <span style=\"color:\n",
              "    red\">l</span>u<span style=\"color: red\">r</span>e of fight c<span style=\"color: red\">r</span>up\n",
              "    is you do not ta<span style=\"color: red\">r</span>k apout fight c<span style=\"color:\n",
              "    red\">r</span>up thi<span style=\"color: red\">l</span>d <span style=\"color: red\">l</span>u<span\n",
              "    style=\"color: red\">r</span>e of fight c<span style=\"color: red\">r</span>up someone ye<span\n",
              "    style=\"color: red\">r</span><span style=\"color: red\">r</span>s stob goes <span style=\"color:\n",
              "    red\">r</span>imb tabs out the fight is ove<span style=\"color: red\">l</span> fou<span\n",
              "    style=\"color: red\">l</span>th <span style=\"color: red\">l</span>u<span style=\"color:\n",
              "    red\">r</span>e on<span style=\"color: red\">r</span>y two students to a fight fifth <span\n",
              "    style=\"color: red\">l</span>u<span style=\"color: red\">r</span>e one fight at a time ma<span\n",
              "    style=\"color: red\">l</span>t<span style=\"color: red\">r</span>ets sixth <span style=\"color:\n",
              "    red\">l</span>u<span style=\"color: red\">r</span>e no shi<span style=\"color: red\">l</span>ts no\n",
              "    shoes seventh <span style=\"color: red\">l</span>u<span style=\"color: red\">r</span>e fights\n",
              "    wi<span style=\"color: red\">r</span><span style=\"color: red\">r</span> go on as <span\n",
              "    style=\"color: red\">r</span>ong as they have to and the eighth and fina<span style=\"color:\n",
              "    red\">r</span> <span style=\"color: red\">l</span>u<span style=\"color: red\">r</span>e if this is\n",
              "    you<span style=\"color: red\">l</span> fi<span style=\"color: red\">l</span>st night at fight c<span\n",
              "    style=\"color: red\">r</span>up you have to fight a<span style=\"color: red\">r</span>so i <span\n",
              "    style=\"color: red\">l</span>ea<span style=\"color: red\">r</span><span style=\"color: red\">r</span>y\n",
              "    needed some ext<span style=\"color: red\">l</span>a wo<span style=\"color: red\">l</span>ds so i\n",
              "    decided to add a punch of <span style=\"color: red\">l</span>andom stuff at the end apout b<span\n",
              "    style=\"color: red\">l</span>opapi<span style=\"color: red\">r</span>ity and white <span\n",
              "    style=\"color: red\">l</span>appits and how coincidences a<span style=\"color: red\">l</span>e\n",
              "    sometimes exb<span style=\"color: red\">r</span>ained py <span style=\"color:\n",
              "    red\">l</span>andomness a<span style=\"color: red\">r</span>so jep<span style=\"color:\n",
              "    red\">l</span>as have st<span style=\"color: red\">l</span>ibes which a<span style=\"color:\n",
              "    red\">l</span>e ve<span style=\"color: red\">l</span>y coo<span style=\"color: red\">r</span> and\n",
              "    known we<span style=\"color: red\">r</span><span style=\"color: red\">r</span> to b<span\n",
              "    style=\"color: red\">l</span>event them f<span style=\"color: red\">l</span>om attack py zagua<span\n",
              "    style=\"color: red\">l</span>s"
            ],
            "text/plain": [
              "<IPython.core.display.HTML object>"
            ]
          },
          "metadata": {},
          "output_type": "display_data"
        },
        {
          "data": {
            "text/html": [
              "    [9999]wercome to fight crup the filst lure of fight crup is you do not tark apout fight crup the\n",
              "    second lure of fight crup is you do not tark apout fight crup thild lure of fight crup someone\n",
              "    yerrs stob goes rimb tabs out the fight is ovel foulth lure onry two students to a fight fifth\n",
              "    lure one fight at a time maltrets sixth lure no shilts no shoes seventh lure fights wirr go on\n",
              "    as rong as they have to and the eighth and finar lure if this is youl filst night at fight crup\n",
              "    you have to fight arso i learry needed some extla wolds so i decided to add a punch of landom\n",
              "    stuff at the end apout blopapirity and white lappits and how coincidences ale sometimes\n",
              "    exbrained py landomness arso jeplas have stlibes which ale vely coor and known werr to blevent\n",
              "    them flom attack py zaguals"
            ],
            "text/plain": [
              "<IPython.core.display.HTML object>"
            ]
          },
          "metadata": {},
          "output_type": "display_data"
        }
      ],
      "source": [
        "import numpy as np\n",
        "import numpy.random as npr\n",
        "import numpy.linalg as npa\n",
        "import matplotlib.pyplot as plt\n",
        "\n",
        "import pandas\n",
        "\n",
        "import time\n",
        "\n",
        "from IPython.display import clear_output\n",
        "from IPython.display import display, HTML, Markdown\n",
        "\n",
        "import textwrap\n",
        "\n",
        "wrapper = textwrap.TextWrapper(width=100,\n",
        "    initial_indent=\" \" * 4,\n",
        "    subsequent_indent=\" \" * 4,\n",
        "    break_long_words=False,\n",
        "    break_on_hyphens=False)\n",
        "\n",
        "\n",
        "scrambled = (\"kujratuibaiyfqcbirjpeibcuiyfzwbizpjuiayiyfqcbirjpeifwioapigaisabibhjliheapbiyfqcbirjpeibcuiwurasgizpjuiayiyfqcbirjpeifwioapigaisabibhjliheapbiyfqcbirjpeibcfzgizpjuiayiyfqcbirjpeiwatuasuioujjwiwbadiqauwijftdibhdwiapbibcuiyfqcbifwiavuziyapzbcizpjuiasjoibkaiwbpgusbwibaihiyfqcbiyfybcizpjuiasuiyfqcbihbihibftuithzbjubwiwfxbcizpjuisaiwcfzbwisaiwcauwiwuvusbcizpjuiyfqcbwikfjjiqaiasihwijasqihwibcuoichvuibaihsgibcuiufqcbcihsgiyfshjizpjuifyibcfwifwioapziyfzwbisfqcbihbiyfqcbirjpeioapichvuibaiyfqcbihjwaifizuhjjoisuugugiwatuiuxbzhikazgwiwaifigurfgugibaihggihiepsrciayizhsgatiwbpyyihbibcuiusgiheapbidzaehefjfboihsgikcfbuizheefbwihsgicakirafsrfgusruwihzuiwatubftuwiuxdjhfsugieoizhsgatsuwwihjwaimuezhwichvuiwbzfduwikcfrcihzuivuzoiraajihsgilsaksikujjibaidzuvusbibcutiyzatihbbhrlieoi hqphzw\")\n",
        "#scrambled =(\"tzwjfyzerfespkbrejwhxerbzespaoreahwzefsespkbrejwhxepoe fheifecfrerqwgeqxfhrespkbrejwhxerbzeozjfcieahwzefsespkbrejwhxepoe fheifecfrerqwgeqxfhrespkbrejwhx\")\n",
        "s=np.array(list(scrambled))\n",
        "\n",
        "\n",
        "df = pandas.read_csv(PATH,sep='\\t',header=None)\n",
        "alphabeta = ['a','b','c','d','e','f','g','h','i','j','k','l','m','n','o','p','q','r','s','t','u','v','w','x','y','z',' ']\n",
        "dalphanum = dict(zip(alphabeta, np.arange(0,27)))\n",
        "dnumalpha = dict(zip(np.arange(0,27),alphabeta))\n",
        "df=df.rename(index=dnumalpha,columns=dnumalpha)\n",
        "df=df.apply( (lambda x : np.log(1+x)))\n",
        "\n",
        "\n",
        "logscore = lambda st : sum([df[b][a] for a, b in zip(s[0:-1],s[1:])])\n",
        "\n",
        "\n",
        "n=10000\n",
        "for j in range(n):\n",
        "  swap = npr.choice(alphabeta,size=2,replace=False)\n",
        "  s0 = np.where(s==swap[0])\n",
        "  s1 = np.where(s==swap[1])\n",
        "  x = logscore(s)\n",
        "  s[s0] = swap[1]\n",
        "  s[s1] = swap[0]\n",
        "  y = x-logscore(s)\n",
        "  if (y > npr.exponential(1)-0.3):# and (j % 500 != 0):\n",
        "    #print('wentback\\n')\n",
        "    s[s1] = swap[1]\n",
        "    s[s0] = swap[0]\n",
        "  else:  \n",
        "    text = ''.join(s)\n",
        "    colored_text = text\n",
        "    new_text = \"\"\n",
        "    i = 0\n",
        "    while i < len(colored_text):\n",
        "        if colored_text[i] in swap:  # Check if character is either of the swapped letters\n",
        "            new_text += f'<span style=\"color: red\">{colored_text[i]}</span>'\n",
        "        else:\n",
        "            new_text += colored_text[i]\n",
        "        i += 1\n",
        "    colored_text = new_text\n",
        "    clear_output(wait=True)\n",
        "    display(HTML((wrapper.fill('['+str(j) +']'+ colored_text))))\n",
        "    time.sleep(0.01)\n",
        "\n",
        "#  if j % 50 == 0:\n",
        "display(HTML((wrapper.fill('['+str(j) +']'+ ''.join(s)))))\n",
        "\n",
        "\n",
        "#print(wrapper.fill(''.join(s)))\n",
        "\n"
      ]
    },
    {
      "cell_type": "markdown",
      "metadata": {},
      "source": [
        "Let's add an annealing schedule to the decryption.  We'll start with a high temperature and then lower it as we get closer to the solution."
      ]
    },
    {
      "cell_type": "code",
      "execution_count": null,
      "metadata": {},
      "outputs": [
        {
          "data": {
            "text/html": [
              "    [9956]bercowe so hamps crug spe halts lure oh hamps crug at you do nos sirk igous hamps crug spe\n",
              "    tecond lure oh hamps crug at you do nos sirk igous hamps crug spald lure oh hamps crug toweone\n",
              "    yerrt tsof moet rawf sift ous spe hamps at ovel houlsp lure onry sbo tsudenst so i hamps hahsp\n",
              "    lure one hamps is i sawe wilsrest taxsp lure no tpalst no tpoet tevensp lure hampst barr mo on\n",
              "    it ronm it spey pive so ind spe eampsp ind hanir lure ah spat at youl halts namps is hamps crug\n",
              "    you pive so hamps irto a leirry needed towe exsli boldt to a decaded so idd i guncp oh lindow\n",
              "    tsuhh is spe end igous flogigarasy ind bpase liggast ind pob coancadencet ile towesawet\n",
              "    exfrianed gy lindownett irto qeglit pive tslafet bpacp ile vely coor ind knobn berr so flevens\n",
              "    spew hlow issick gy <span style=\"color: red\">j</span>imuilt"
            ],
            "text/plain": [
              "<IPython.core.display.HTML object>"
            ]
          },
          "metadata": {},
          "output_type": "display_data"
        }
      ],
      "source": [
        "import numpy as np\n",
        "import numpy.random as npr\n",
        "import numpy.linalg as npa\n",
        "import matplotlib.pyplot as plt\n",
        "\n",
        "import pandas\n",
        "\n",
        "import time\n",
        "\n",
        "from IPython.display import clear_output\n",
        "from IPython.display import display, HTML, Markdown\n",
        "\n",
        "import textwrap\n",
        "\n",
        "wrapper = textwrap.TextWrapper(width=100,\n",
        "    initial_indent=\" \" * 4,\n",
        "    subsequent_indent=\" \" * 4,\n",
        "    break_long_words=False,\n",
        "    break_on_hyphens=False)\n",
        "\n",
        "\n",
        "scrambled = (\"kujratuibaiyfqcbirjpeibcuiyfzwbizpjuiayiyfqcbirjpeifwioapigaisabibhjliheapbiyfqcbirjpeibcuiwurasgizpjuiayiyfqcbirjpeifwioapigaisabibhjliheapbiyfqcbirjpeibcfzgizpjuiayiyfqcbirjpeiwatuasuioujjwiwbadiqauwijftdibhdwiapbibcuiyfqcbifwiavuziyapzbcizpjuiasjoibkaiwbpgusbwibaihiyfqcbiyfybcizpjuiasuiyfqcbihbihibftuithzbjubwiwfxbcizpjuisaiwcfzbwisaiwcauwiwuvusbcizpjuiyfqcbwikfjjiqaiasihwijasqihwibcuoichvuibaihsgibcuiufqcbcihsgiyfshjizpjuifyibcfwifwioapziyfzwbisfqcbihbiyfqcbirjpeioapichvuibaiyfqcbihjwaifizuhjjoisuugugiwatuiuxbzhikazgwiwaifigurfgugibaihggihiepsrciayizhsgatiwbpyyihbibcuiusgiheapbidzaehefjfboihsgikcfbuizheefbwihsgicakirafsrfgusruwihzuiwatubftuwiuxdjhfsugieoizhsgatsuwwihjwaimuezhwichvuiwbzfduwikcfrcihzuivuzoiraajihsgilsaksikujjibaidzuvusbibcutiyzatihbbhrlieoi hqphzw\")\n",
        "#scrambled =(\"tzwjfyzerfespkbrejwhxerbzespaoreahwzefsespkbrejwhxepoe fheifecfrerqwgeqxfhrespkbrejwhxerbzeozjfcieahwzefsespkbrejwhxepoe fheifecfrerqwgeqxfhrespkbrejwhx\")\n",
        "s=np.array(list(scrambled))\n",
        "\n",
        "\n",
        "df = pandas.read_csv(PATH,sep='\\t',header=None)\n",
        "alphabeta = ['a','b','c','d','e','f','g','h','i','j','k','l','m','n','o','p','q','r','s','t','u','v','w','x','y','z',' ']\n",
        "dalphanum = dict(zip(alphabeta, np.arange(0,27)))\n",
        "dnumalpha = dict(zip(np.arange(0,27),alphabeta))\n",
        "df=df.rename(index=dnumalpha,columns=dnumalpha)\n",
        "df=df.apply( (lambda x : np.log(1+x)))\n",
        "\n",
        "\n",
        "logscore = lambda st : sum([df[b][a] for a, b in zip(s[0:-1],s[1:])])\n",
        "\n",
        "\n",
        "n=10000\n",
        "for j in range(n):\n",
        "  swap = npr.choice(alphabeta,size=2,replace=False)\n",
        "  s0 = np.where(s==swap[0])\n",
        "  s1 = np.where(s==swap[1])\n",
        "  x = logscore(s)\n",
        "  s[s0] = swap[1]\n",
        "  s[s1] = swap[0]\n",
        "  y = x-logscore(s)\n",
        "  if (y > npr.exponential(1) - 1.0 + (j/1000)):# and (j % 500 != 0):\n",
        "    #print('wentback\\n')\n",
        "    s[s1] = swap[1]\n",
        "    s[s0] = swap[0]\n",
        "  else:\n",
        "    text = ''.join(s)\n",
        "    colored_text = text\n",
        "    new_text = \"\"\n",
        "    i = 0\n",
        "    while i < len(colored_text):\n",
        "        if colored_text[i] in swap:  # Check if character is either of the swapped letters\n",
        "            new_text += f'<span style=\"color: red\">{colored_text[i]}</span>'\n",
        "        else:\n",
        "            new_text += colored_text[i]\n",
        "        i += 1\n",
        "    colored_text = new_text\n",
        "    clear_output(wait=True)\n",
        "    display(HTML((wrapper.fill('['+str(j) +']'+ colored_text))))\n",
        "    time.sleep(0.01)\n",
        "\n",
        "#  if j % 50 == 0:\n",
        "display(HTML((wrapper.fill('['+str(j) +']'+ ''.join(s)))))\n",
        "\n",
        "\n",
        "#print(wrapper.fill(''.join(s)))\n",
        "\n"
      ]
    },
    {
      "cell_type": "markdown",
      "metadata": {},
      "source": [
        "Let's change the proposal distribution.  Instead of using a random swap, let's look at all the current adjacent pairs of letters ab.  Now make an array of letter weights w.  Now look at the bigram frequencies in df[a][b], and add (1/(df[a][b]+1)) to w[a] and to w[b].  Finally select a letter with probability proportional to w and another letter uniformly at random.  Then accept the swap with the same rule as above."
      ]
    },
    {
      "cell_type": "code",
      "execution_count": 24,
      "metadata": {},
      "outputs": [
        {
          "data": {
            "text/html": [
              "    [2224]wercofe so him<span style=\"color: red\">p</span>s crug s<span style=\"color: red\">p</span>e\n",
              "    hilts lure oh him<span style=\"color: red\">p</span>s crug it you do nos sark agous him<span\n",
              "    style=\"color: red\">p</span>s crug s<span style=\"color: red\">p</span>e tecond lure oh him<span\n",
              "    style=\"color: red\">p</span>s crug it you do nos sark agous him<span style=\"color: red\">p</span>s\n",
              "    crug s<span style=\"color: red\">p</span>ild lure oh him<span style=\"color: red\">p</span>s crug\n",
              "    tofeone yerrt tsob moet rifb sabt ous s<span style=\"color: red\">p</span>e him<span style=\"color:\n",
              "    red\">p</span>s it ovel houls<span style=\"color: red\">p</span> lure onry swo tsudenst so a\n",
              "    him<span style=\"color: red\">p</span>s hihs<span style=\"color: red\">p</span> lure one him<span\n",
              "    style=\"color: red\">p</span>s as a sife falsrest tixs<span style=\"color: red\">p</span> lure no\n",
              "    t<span style=\"color: red\">p</span>ilst no t<span style=\"color: red\">p</span>oet tevens<span\n",
              "    style=\"color: red\">p</span> lure him<span style=\"color: red\">p</span>st wirr mo on at ronm at\n",
              "    s<span style=\"color: red\">p</span>ey <span style=\"color: red\">p</span>ave so and s<span\n",
              "    style=\"color: red\">p</span>e eim<span style=\"color: red\">p</span>s<span style=\"color:\n",
              "    red\">p</span> and hinar lure ih s<span style=\"color: red\">p</span>it it youl hilts nim<span\n",
              "    style=\"color: red\">p</span>s as him<span style=\"color: red\">p</span>s crug you <span\n",
              "    style=\"color: red\">p</span>ave so him<span style=\"color: red\">p</span>s arto i learry needed\n",
              "    tofe exsla woldt to i decided so add a gunc<span style=\"color: red\">p</span> oh landof tsuhh as\n",
              "    s<span style=\"color: red\">p</span>e end agous blogagirisy and w<span style=\"color:\n",
              "    red\">p</span>ise laggist and <span style=\"color: red\">p</span>ow coincidencet ale tofesifet\n",
              "    exbrained gy landofnett arto jeglat <span style=\"color: red\">p</span>ave tslibet w<span\n",
              "    style=\"color: red\">p</span>ic<span style=\"color: red\">p</span> ale vely coor and known werr so\n",
              "    blevens s<span style=\"color: red\">p</span>ef hlof assack gy zamualt"
            ],
            "text/plain": [
              "<IPython.core.display.HTML object>"
            ]
          },
          "metadata": {},
          "output_type": "display_data"
        },
        {
          "ename": "KeyboardInterrupt",
          "evalue": "",
          "output_type": "error",
          "traceback": [
            "\u001b[0;31m---------------------------------------------------------------------------\u001b[0m",
            "\u001b[0;31mKeyboardInterrupt\u001b[0m                         Traceback (most recent call last)",
            "Cell \u001b[0;32mIn[24], line 8\u001b[0m\n\u001b[1;32m      5\u001b[0m w \u001b[38;5;241m=\u001b[39m {letter: \u001b[38;5;241m1\u001b[39m \u001b[38;5;28;01mfor\u001b[39;00m letter \u001b[38;5;129;01min\u001b[39;00m alphabeta}\n\u001b[1;32m      7\u001b[0m \u001b[38;5;28;01mfor\u001b[39;00m a, b \u001b[38;5;129;01min\u001b[39;00m pairs:\n\u001b[0;32m----> 8\u001b[0m     w[a] \u001b[38;5;241m+\u001b[39m\u001b[38;5;241m=\u001b[39m \u001b[38;5;241m1\u001b[39m\u001b[38;5;241m/\u001b[39m\u001b[43mnp\u001b[49m\u001b[38;5;241;43m.\u001b[39;49m\u001b[43mpower\u001b[49m\u001b[43m(\u001b[49m\u001b[43mdf\u001b[49m\u001b[43m[\u001b[49m\u001b[43ma\u001b[49m\u001b[43m]\u001b[49m\u001b[43m[\u001b[49m\u001b[43mb\u001b[49m\u001b[43m]\u001b[49m\u001b[43m \u001b[49m\u001b[38;5;241;43m+\u001b[39;49m\u001b[43m \u001b[49m\u001b[38;5;241;43m1\u001b[39;49m\u001b[43m,\u001b[49m\u001b[43m \u001b[49m\u001b[38;5;241;43m0.1\u001b[39;49m\u001b[43m)\u001b[49m\n\u001b[1;32m      9\u001b[0m     w[b] \u001b[38;5;241m+\u001b[39m\u001b[38;5;241m=\u001b[39m \u001b[38;5;241m1\u001b[39m\u001b[38;5;241m/\u001b[39mnp\u001b[38;5;241m.\u001b[39mpower(df[a][b] \u001b[38;5;241m+\u001b[39m \u001b[38;5;241m1\u001b[39m, \u001b[38;5;241m0.1\u001b[39m)\n\u001b[1;32m     11\u001b[0m \u001b[38;5;66;03m# Convert dictionary w to array, preserving order of alphabeta\u001b[39;00m\n",
            "\u001b[0;31mKeyboardInterrupt\u001b[0m: "
          ]
        }
      ],
      "source": [
        "n = 10000\n",
        "for j in range(n):\n",
        "\n",
        "    pairs = list(zip(s[:-1], s[1:]))\n",
        "    w = {letter: 1 for letter in alphabeta}\n",
        "\n",
        "    for a, b in pairs:\n",
        "        w[a] += 1/np.power(df[a][b] + 1, 0.1)\n",
        "        w[b] += 1/np.power(df[a][b] + 1, 0.1)\n",
        "\n",
        "    # Convert dictionary w to array, preserving order of alphabeta\n",
        "    w_array = np.array([w[letter] for letter in alphabeta])\n",
        "    w_array = w_array / np.sum(w_array)\n",
        "    # Select first letter weighted by w, second letter uniform random\n",
        "    swap = np.array([\n",
        "        npr.choice(alphabeta, p=w_array),\n",
        "        npr.choice(alphabeta)\n",
        "    ])\n",
        "    \n",
        "    s0 = np.where(s==swap[0])\n",
        "    s1 = np.where(s==swap[1])\n",
        "    x = logscore(s)\n",
        "    s[s0] = swap[1]\n",
        "    s[s1] = swap[0]\n",
        "    y = x-logscore(s)\n",
        "    if (y > npr.exponential(1) - 0.5):\n",
        "        s[s1] = swap[1]\n",
        "        s[s0] = swap[0]\n",
        "    else:\n",
        "        text = ''.join(s)\n",
        "        colored_text = text\n",
        "        new_text = \"\"\n",
        "        i = 0\n",
        "        while i < len(colored_text):\n",
        "            if colored_text[i] in swap:\n",
        "                new_text += f'<span style=\"color: red\">{colored_text[i]}</span>'\n",
        "            else:\n",
        "                new_text += colored_text[i]\n",
        "            i += 1\n",
        "        colored_text = new_text\n",
        "        clear_output(wait=True)\n",
        "        display(HTML((wrapper.fill('['+str(j) +']'+ colored_text))))\n",
        "        time.sleep(0.01)\n",
        "\n",
        "display(HTML((wrapper.fill('['+str(j) +']'+ ''.join(s)))))\n",
        "\n"
      ]
    },
    {
      "cell_type": "code",
      "execution_count": null,
      "metadata": {},
      "outputs": [],
      "source": []
    }
  ],
  "metadata": {
    "colab": {
      "authorship_tag": "ABX9TyMwNN7pqOcQI1YfgNsaolGH",
      "collapsed_sections": [],
      "include_colab_link": true,
      "mount_file_id": "1q5BNTO8eFsDaM8R7iZa_NofLmrSpqRWA",
      "name": "AustenDecoder.ipynb",
      "provenance": []
    },
    "kernelspec": {
      "display_name": "e-py",
      "language": "python",
      "name": "python3"
    },
    "language_info": {
      "codemirror_mode": {
        "name": "ipython",
        "version": 3
      },
      "file_extension": ".py",
      "mimetype": "text/x-python",
      "name": "python",
      "nbconvert_exporter": "python",
      "pygments_lexer": "ipython3",
      "version": "3.12.8"
    }
  },
  "nbformat": 4,
  "nbformat_minor": 0
}
