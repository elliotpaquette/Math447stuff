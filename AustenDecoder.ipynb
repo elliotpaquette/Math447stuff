{
  "nbformat": 4,
  "nbformat_minor": 0,
  "metadata": {
    "colab": {
      "name": "AustenDecoder.ipynb",
      "provenance": [],
      "collapsed_sections": [],
      "mount_file_id": "1q5BNTO8eFsDaM8R7iZa_NofLmrSpqRWA",
      "authorship_tag": "ABX9TyMwNN7pqOcQI1YfgNsaolGH",
      "include_colab_link": true
    },
    "kernelspec": {
      "name": "python3",
      "display_name": "Python 3"
    }
  },
  "cells": [
    {
      "cell_type": "markdown",
      "metadata": {
        "id": "view-in-github",
        "colab_type": "text"
      },
      "source": [
        "<a href=\"https://colab.research.google.com/github/elliotpaquette/Math447stuff/blob/main/AustenDecoder.ipynb\" target=\"_parent\"><img src=\"https://colab.research.google.com/assets/colab-badge.svg\" alt=\"Open In Colab\"/></a>"
      ]
    },
    {
      "cell_type": "markdown",
      "metadata": {
        "id": "qZq22khy9I_S"
      },
      "source": [
        "**The python version of decipher example**\n",
        "\n",
        "The first script encodes.  The second decodes.\n",
        "\n",
        "To run the decryption, you need the file AustenCount.txt, which was made by Dobrow and which is available at:\n",
        "https://github.com/elliotpaquette/Math447stuff/blob/main/AustenCount.txt\n",
        "It contains nearest-neighbor letter pair (a-z and ' ') frequencies from the complete works of Jane Austen.  \n",
        "\n",
        "If using google colab, you can put it in your google drive which will be mounted by default at /content/drive/MyDrive.  You'll need to adjust the path used below.\n",
        "\n",
        "\n",
        "\n"
      ]
    },
    {
      "cell_type": "code",
      "metadata": {
        "id": "RJXZ84nfMiP-",
        "colab": {
          "base_uri": "https://localhost:8080/"
        },
        "outputId": "688ff0dd-e893-4758-dbc5-1d1adfda7ef5"
      },
      "source": [
        "from google.colab import drive\n",
        "drive.mount('/content/drive')"
      ],
      "execution_count": 9,
      "outputs": [
        {
          "output_type": "stream",
          "name": "stdout",
          "text": [
            "Drive already mounted at /content/drive; to attempt to forcibly remount, call drive.mount(\"/content/drive\", force_remount=True).\n"
          ]
        }
      ]
    },
    {
      "cell_type": "markdown",
      "source": [
        "This tests loading the AustenCount file and encrypts a string (they have nothing to do with one another)."
      ],
      "metadata": {
        "id": "szNXD5TtABcx"
      }
    },
    {
      "cell_type": "code",
      "metadata": {
        "colab": {
          "base_uri": "https://localhost:8080/"
        },
        "id": "abV3F9lK9Kx7",
        "outputId": "01a9add5-9a50-49e2-edc5-9f21839f3142"
      },
      "source": [
        "import numpy as np\n",
        "import numpy.random as npr\n",
        "import numpy.linalg as npa\n",
        "import matplotlib.pyplot as plt\n",
        "\n",
        "import pandas\n",
        "import requests\n",
        "\n",
        "import time\n",
        "\n",
        "from IPython.display import clear_output\n",
        "\n",
        "#scrambled = ' hvptbhwqtwxjcoqwpverwqohwxjmzqwmevhwtxwxjcoqwpverwjzwytewktwitqwqsvlwsrteqwxjcoqwpverwqohwzhptikwmevhwtxwxjcoqwpverwjzwytewktwitqwqsvlwsrteqwxjcoqwpverwqojmkwmevhwtxwxjcoqwpverwztbhtihwyhvvzwzqtuwcthzwvjbuwqsuzwteqwqohwxjcoqwjzwtghmwxtemqowmevhwtivywq twzqekhiqzwqtwswxjcoqwxjxqowmevhwtihwxjcoqwsqwswqjbhwbsmqvhqzwzjnqowmevhwitwzojmqzwitwzothzwzhghiqowmevhwxjcoqzw jvvwctwtiwszwvticwszwqohywosghwqtwsikwqohwhjcoqowsikwxjisvwmevhwjxwqojzwjzwytemwxjmzqwijcoqwsqwxjcoqwpverwytewosghwqtwxjcoq'\n",
        "original = 'welcome to fight club the first rule of fight club is you do not talk about fight club the second rule of fight club is you do not talk about fight club'# third rule of fight club someone yells stop goes limp taps out the fight is over fourth rule only two students to a fight fifth rule one fight at a time martlets sixth rule no shirts no shoes seventh rule fights will go on as long as they have to and the eighth and final rule if this is your first night at fight club you have to fight also i really needed some extra words so i decided to add a bunch of random stuff at the end about probability and white rabbits and how coincidences are sometimes explained by randomness also zebras have stripes which are very cool and known well to prevent them from attack by jaguars'\n",
        "#original = 'i know why you are here mcgill neo i know what you have been doing why you hardly sleep why you live alone and why night after night you sit by your computer you are looking for mycourses updates i know because i was once looking for the same thing and when maxime rvc found me he told me i was not really looking for him i was looking for an answer it is the question that drives us mcgill neo it is the question that brought you here you know the question just as i did what is the matrix the answer is out there mcgill neo and it is looking for you and it will find you if you want it to coincidences in general are great stumbling blocks in the way of that class of thinkers who have been educated to know nothing of the theory of probabilities that theory to which the most glorious objects of human research are indebted for the most glorious of illustrations edgar allen poe the murders in the rue morgue morpheus this is your last chance after this there is no turning back you take the blue pill the story ends you wake up in your bed and believe whatever you want to believe you take the red pill you stay in wonderland and i show you how deep the rabbit hole goes'\n",
        "s=np.array(list(original))\n",
        "\n",
        "\n",
        "clear_output(wait=True)\n",
        "\n",
        "#time.sleep(0.5)\n",
        "\n",
        "#print(npa.matrix_power(P,2))\n",
        "\n",
        "#clear_output(wait=True)\n",
        "\n",
        "df = pandas.read_csv('/content/drive/MyDrive/ColabTemp/AustenCount.txt',sep='\\t',header=None)\n",
        "alphabeta = ['a','b','c','d','e','f','g','h','i','j','k','l','m','n','o','p','q','r','s','t','u','v','w','x','y','z',' ']\n",
        "dalphanum = dict(zip(alphabeta, np.arange(0,27)))\n",
        "dnumalpha = dict(zip(np.arange(0,27),alphabeta))\n",
        "df=df.rename(index=dnumalpha,columns=dnumalpha)\n",
        "print(df)\n",
        "\n",
        "n=1000\n",
        "for j in range(n):\n",
        "  swap = npr.choice(alphabeta,size=2,replace=False)\n",
        "  s0 = np.where(s==swap[0])\n",
        "  s1 = np.where(s==swap[1])\n",
        "  s[s0] = swap[1]\n",
        "  s[s1] = swap[0]\n",
        "  #print(''.join(s[1:50]))\n",
        "  #clear_output(wait=True)\n",
        "  #time.sleep(0.1)\n",
        "\n",
        "print(''.join(s))\n",
        "\n"
      ],
      "execution_count": 11,
      "outputs": [
        {
          "output_type": "stream",
          "name": "stdout",
          "text": [
            "       a      b      c      d      e  ...      w     x      y     z        \n",
            "a    117   6669   7227  15101     36  ...   2796   274   7976   155   16327\n",
            "b   2385    208      0     35  23837  ...      1     0   4267     0      61\n",
            "c   8527      5   1843     24  14648  ...      0     0   1289     0     326\n",
            "d   4539     10      8   1234  16181  ...    445     0   2619     0   80200\n",
            "e  20863    269   9427  32733  13287  ...   2360  4406   5746    13  125631\n",
            "f   6138      0      1      0   7675  ...      0     0    247     0   28114\n",
            "g   3958     91      0     28   8326  ...      0     0    128     1   22397\n",
            "h  39294    539      0     34  92779  ...    535     0    522     0   20474\n",
            "i   3838   1758   9101   8072   9043  ...      5   454      0  1129   13833\n",
            "j    838      0      0      0   1526  ...      0     0      0     0       0\n",
            "k     91      4      3      1   6394  ...     70     0     98     0    5039\n",
            "l   9517     32    197  12054  21439  ...    884     0  14280     0   16351\n",
            "m  13719   1058      1     30  20516  ...      2     0   4745     0   11654\n",
            "n   3696    144   9964  39348  21922  ...    392   304   4983     9   49530\n",
            "o    665   2288   1519   4474    588  ...  11958   140    691    33   40230\n",
            "p   6499     87      0      2  10857  ...      3     0    743     0    1671\n",
            "q      0      0      0      0      0  ...      0     0      0     0       0\n",
            "r  10731    248   2360   5587  46153  ...    535     0   9794     0   50263\n",
            "s   8746    258   2103    132  24430  ...    781     0    461     0   65458\n",
            "t  10294     11    724      4  26143  ...   1936     2   4549    46   76415\n",
            "u   2769   1604   6160   1551   2326  ...      0    40     33    33    7389\n",
            "v   1985      0      0      0  28729  ...      0     0    112     0      51\n",
            "w  18305     31      6     56  12049  ...     12     0     10     0    6774\n",
            "x    428      0   1025      0    460  ...      1   128      4     0     396\n",
            "y    153    282      1    192   2667  ...     65     0      0     0   47635\n",
            "z    812      0      0      0    368  ...     37     0    104   137      13\n",
            "   90186  38500  30550  22668  21173  ...  57628   186  14102    28       0\n",
            "\n",
            "[27 rows x 27 columns]\n",
            "gutcomujxojr baxjctpijxaujr qlxjqptujorjr baxjctpij ljeopjyojfoxjxhtsjhiopxjr baxjctpijxaujlucofyjqptujorjr baxjctpij ljeopjyojfoxjxhtsjhiopxjr baxjctpi\n"
          ]
        }
      ]
    },
    {
      "cell_type": "markdown",
      "metadata": {
        "id": "-FsP7_p9NK3C"
      },
      "source": [
        "Decode"
      ]
    },
    {
      "cell_type": "code",
      "metadata": {
        "colab": {
          "base_uri": "https://localhost:8080/"
        },
        "id": "UYro71BmNMt8",
        "outputId": "46f81ba5-9197-4e56-91cc-8fac52927abe"
      },
      "source": [
        "import numpy as np\n",
        "import numpy.random as npr\n",
        "import numpy.linalg as npa\n",
        "import matplotlib.pyplot as plt\n",
        "\n",
        "import pandas\n",
        "\n",
        "import time\n",
        "\n",
        "from IPython.display import clear_output\n",
        "\n",
        "import textwrap\n",
        "\n",
        "wrapper = textwrap.TextWrapper(width=100,\n",
        "    initial_indent=\" \" * 4,\n",
        "    subsequent_indent=\" \" * 4,\n",
        "    break_long_words=False,\n",
        "    break_on_hyphens=False)\n",
        "\n",
        "\n",
        "scrambled = (\"kujratuibaiyfqcbirjpeibcuiyfzwbizpjuiayiyfqcbirjpeifwioapigaisabibhjliheapbiyfqcbirjpeibcuiwurasgizpjuiayiyfqcbirjpeifwioapigaisabibhjliheapbiyfqcbirjpeibcfzgizpjuiayiyfqcbirjpeiwatuasuioujjwiwbadiqauwijftdibhdwiapbibcuiyfqcbifwiavuziyapzbcizpjuiasjoibkaiwbpgusbwibaihiyfqcbiyfybcizpjuiasuiyfqcbihbihibftuithzbjubwiwfxbcizpjuisaiwcfzbwisaiwcauwiwuvusbcizpjuiyfqcbwikfjjiqaiasihwijasqihwibcuoichvuibaihsgibcuiufqcbcihsgiyfshjizpjuifyibcfwifwioapziyfzwbisfqcbihbiyfqcbirjpeioapichvuibaiyfqcbihjwaifizuhjjoisuugugiwatuiuxbzhikazgwiwaifigurfgugibaihggihiepsrciayizhsgatiwbpyyihbibcuiusgiheapbidzaehefjfboihsgikcfbuizheefbwihsgicakirafsrfgusruwihzuiwatubftuwiuxdjhfsugieoizhsgatsuwwihjwaimuezhwichvuiwbzfduwikcfrcihzuivuzoiraajihsgilsaksikujjibaidzuvusbibcutiyzatihbbhrlieoi hqphzw\")\n",
        "#scrambled =(\"tzwjfyzerfespkbrejwhxerbzespaoreahwzefsespkbrejwhxepoe fheifecfrerqwgeqxfhrespkbrejwhxerbzeozjfcieahwzefsespkbrejwhxepoe fheifecfrerqwgeqxfhrespkbrejwhx\")\n",
        "s=np.array(list(scrambled))\n",
        "\n",
        "\n",
        "df = pandas.read_csv('/content/drive/MyDrive/ColabTemp/AustenCount.txt',sep='\\t',header=None)\n",
        "alphabeta = ['a','b','c','d','e','f','g','h','i','j','k','l','m','n','o','p','q','r','s','t','u','v','w','x','y','z',' ']\n",
        "dalphanum = dict(zip(alphabeta, np.arange(0,27)))\n",
        "dnumalpha = dict(zip(np.arange(0,27),alphabeta))\n",
        "df=df.rename(index=dnumalpha,columns=dnumalpha)\n",
        "df=df.apply( (lambda x : np.log(1+x)))\n",
        "\n",
        "\n",
        "logscore = lambda st : sum([df[b][a] for a, b in zip(s[0:-1],s[1:])])\n",
        "\n",
        "\n",
        "n=1000\n",
        "for j in range(n):\n",
        "  swap = npr.choice(alphabeta,size=2,replace=False)\n",
        "  s0 = np.where(s==swap[0])\n",
        "  s1 = np.where(s==swap[1])\n",
        "  x = logscore(s)\n",
        "  s[s0] = swap[1]\n",
        "  s[s1] = swap[0]\n",
        "  y = x-logscore(s)\n",
        "  if (y > npr.exponential(1)):# and (j % 500 != 0):\n",
        "    #print('wentback\\n')\n",
        "    s[s1] = swap[1]\n",
        "    s[s0] = swap[0]  \n",
        "  if j % 50 == 0:\n",
        "    print(wrapper.fill('['+str(j) +']'+ ''.join(s)))\n",
        "    clear_output(wait=True)\n",
        "  #time.sleep(0.1)\n",
        "\n",
        "print(wrapper.fill(''.join(s)))\n",
        "\n"
      ],
      "execution_count": 12,
      "outputs": [
        {
          "output_type": "stream",
          "name": "stdout",
          "text": [
            "    gerpome to whuct prfl tce whist ifre ow whuct prfl hs yof do not tark aloft whuct prfl tce\n",
            "    sepond ifre ow whuct prfl hs yof do not tark aloft whuct prfl tchid ifre ow whuct prfl someone\n",
            "    yerrs stob uoes rhmb tabs oft tce whuct hs ovei wofitc ifre onry tgo stfdents to a whuct whwtc\n",
            "    ifre one whuct at a thme maitrets shxtc ifre no schits no scoes seventc ifre whucts ghrr uo on\n",
            "    as ronu as tcey cave to and tce ehuctc and whnar ifre hw tchs hs yofi whist nhuct at whuct prfl\n",
            "    yof cave to whuct arso h iearry needed some extia goids so h dephded to add a lfnpc ow iandom\n",
            "    stfww at tce end aloft biolalhrhty and gchte iallhts and cog pohnphdenpes aie somethmes\n",
            "    exbrahned ly iandomness arso zelias cave stihbes gchpc aie veiy poor and knogn gerr to bievent\n",
            "    tcem wiom attapk ly jaufais\n"
          ]
        }
      ]
    }
  ]
}