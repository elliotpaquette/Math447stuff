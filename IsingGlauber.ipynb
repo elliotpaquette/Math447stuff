{
  "cells": [
    {
      "cell_type": "markdown",
      "metadata": {
        "id": "view-in-github",
        "colab_type": "text"
      },
      "source": [
        "<a href=\"https://colab.research.google.com/github/elliotpaquette/Math447stuff/blob/main/IsingGlauber.ipynb\" target=\"_parent\"><img src=\"https://colab.research.google.com/assets/colab-badge.svg\" alt=\"Open In Colab\"/></a>"
      ]
    },
    {
      "cell_type": "markdown",
      "metadata": {
        "id": "M-ZTjKmkZobv"
      },
      "source": [
        "Run Glauber dynamics at inverse temperature $\\beta$.\n",
        "The edges of the block are taken to be frozen at +1 or -1."
      ]
    },
    {
      "cell_type": "code",
      "execution_count": null,
      "metadata": {
        "id": "z5XEV3WNMEug"
      },
      "outputs": [],
      "source": [
        "def runGlauber(Sigma, beta, steps):\n",
        "  m,n = Sigma.shape\n",
        "  for j in range(steps):\n",
        "    a = np.random.randint(0,m)\n",
        "    b = np.random.randint(0,n)\n",
        "\n",
        "    S = 0\n",
        "  \n",
        "    if a == 0: #we chose the top edge\n",
        "      if b > n//2:\n",
        "        S += 1\n",
        "      else:\n",
        "        S -= 1\n",
        "      S += Sigma[1,b]\n",
        "    elif a == m-1:#we chose the bottom edge\n",
        "      if b > n//2:\n",
        "        S += 1\n",
        "      else:\n",
        "        S -= 1\n",
        "      S += Sigma[m-2,b]\n",
        "    else: #in the middle\n",
        "      S += Sigma[a-1,b]+Sigma[a+1,b]\n",
        "\n",
        "    if b == 0: #we chose the left edge\n",
        "      S -= 1\n",
        "      S += Sigma[a,1]\n",
        "    elif b == n-1:#we chose the right edge\n",
        "      S += 1\n",
        "      S += Sigma[a,n-2]\n",
        "    else: #in the middle\n",
        "      S += Sigma[a,b-1]+Sigma[a,b+1]\n",
        "\n",
        "    p = np.exp(beta * S)/(np.exp(beta * S) + np.exp(-beta * S))\n",
        "    \n",
        "    if np.random.uniform() < p:\n",
        "      Sigma[a,b]= 1\n",
        "    else:\n",
        "      Sigma[a,b]=-1\n",
        "  return Sigma\n"
      ]
    },
    {
      "cell_type": "markdown",
      "source": [
        "Run the above Glauber dynamics from iid uniform initial spins.  Total number of steps run is $steps*epochs$.  They are plotted with pcolormesh."
      ],
      "metadata": {
        "id": "r9xjLvFlDvYv"
      }
    },
    {
      "cell_type": "code",
      "execution_count": null,
      "metadata": {
        "colab": {
          "background_save": true
        },
        "id": "ml8MjRXJEra9",
        "outputId": "3d68671e-a557-4840-cb32-b406d2fb5a19"
      },
      "outputs": [
        {
          "data": {
            "image/png": "[encoded data removed]",
            "text/plain": [
              "<Figure size 432x288 with 1 Axes>"
            ]
          },
          "metadata": {},
          "output_type": "display_data"
        }
      ],
      "source": [
        "import matplotlib.pyplot as plt\n",
        "import matplotlib.animation as ani\n",
        "from matplotlib.colors import BoundaryNorm\n",
        "from matplotlib.ticker import MaxNLocator\n",
        "import numpy as np\n",
        "\n",
        "m = 100\n",
        "n = 200\n",
        "steps = 10000000\n",
        "epochs = 5\n",
        "beta = 1\n",
        "Sigma = 2*np.random.randint(0,2,(m,n))-1\n",
        "x = np.arange(n)\n",
        "y = np.arange(m)\n",
        "\n",
        "fig, ax = plt.subplots()\n",
        "\n",
        "pmesh = ax.pcolormesh(x, y, Sigma, shading='auto')\n",
        "\n",
        "\n",
        "Sigmas = []\n",
        "for j in range(epochs):\n",
        "  newSigma = runGlauber(Sigma,beta,steps)\n",
        "  Sigmas.append(Sigma)\n",
        "  Sigma = newSigma\n",
        "  plt.pcolormesh(x, y, Sigmas[j])\n",
        "\n",
        "plt.show()\n",
        "\n",
        "\n",
        "\n"
      ]
    }
  ],
  "metadata": {
    "colab": {
      "provenance": [],
      "authorship_tag": "ABX9TyOnWj3DXljGZaL6/RUIt8yw",
      "include_colab_link": true
    },
    "kernelspec": {
      "display_name": "Python 3",
      "name": "python3"
    },
    "language_info": {
      "name": "python"
    }
  },
  "nbformat": 4,
  "nbformat_minor": 0
}