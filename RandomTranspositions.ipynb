{
 "cells": [
  {
   "cell_type": "markdown",
   "metadata": {},
   "source": [
    "This file will show some properties of the card shuffling processes."
   ]
  },
  {
   "cell_type": "code",
   "execution_count": 2,
   "metadata": {},
   "outputs": [
    {
     "data": {
      "text/html": [
       "Shuffles performed: 146<br><span style=\"color: white\">35</span>, <span style=\"color: white\">25</span>, <span style=\"color: white\">20</span>, <span style=\"color: white\">34</span>, <span style=\"color: white\">9</span>, <span style=\"color: white\">30</span>, <span style=\"color: white\">28</span>, <span style=\"color: white\">1</span>, <span style=\"color: white\">19</span>, <span style=\"color: white\">2</span>, <span style=\"color: white\">3</span>, <span style=\"color: white\">44</span>, <span style=\"color: white\">43</span>, <span style=\"color: white\">7</span>, <span style=\"color: white\">52</span>, <span style=\"color: white\">5</span>, <span style=\"color: white\">33</span>, <span style=\"color: white\">14</span>, <span style=\"color: white\">45</span>, <span style=\"color: white\">23</span>, <span style=\"color: white\">10</span>, <span style=\"color: white\">47</span>, <span style=\"color: white\">6</span>, <span style=\"color: white\">37</span>, <span style=\"color: white\">26</span>, <span style=\"color: white\">12</span>, <span style=\"color: white\">13</span>, <span style=\"color: white\">50</span>, <span style=\"color: white\">16</span>, <span style=\"color: white\">40</span>, <span style=\"color: white\">39</span>, <span style=\"color: white\">27</span>, <span style=\"color: white\">36</span>, <span style=\"color: white\">4</span>, <span style=\"color: white\">8</span>, <span style=\"color: white\">22</span>, <span style=\"color: white\">46</span>, <span style=\"color: red\">38</span>, <span style=\"color: white\">41</span>, <span style=\"color: white\">51</span>, <span style=\"color: white\">31</span>, <span style=\"color: white\">48</span>, <span style=\"color: white\">24</span>, <span style=\"color: white\">15</span>, <span style=\"color: white\">11</span>, <span style=\"color: white\">29</span>, <span style=\"color: white\">32</span>, <span style=\"color: white\">18</span>, <span style=\"color: white\">21</span>, <span style=\"color: white\">42</span>, <span style=\"color: white\">49</span>, <span style=\"color: white\">17</span>"
      ],
      "text/plain": [
       "<IPython.core.display.HTML object>"
      ]
     },
     "metadata": {},
     "output_type": "display_data"
    }
   ],
   "source": [
    "import random\n",
    "from IPython.display import display, HTML\n",
    "from IPython.display import clear_output\n",
    "import time\n",
    "\n",
    "\n",
    "# Initialize deck with numbers 1-52\n",
    "n = 52\n",
    "deck = list(range(1, n+1))\n",
    "\n",
    "# Function to convert number to card representation (just returns the number)\n",
    "def num_to_card(num):\n",
    "    return str(num)\n",
    "\n",
    "# Run random transpositions for T steps\n",
    "# Keep track of which cards have moved\n",
    "moved_cards = set()\n",
    "loop_counter = 0\n",
    "\n",
    "while True:\n",
    "    loop_counter += 1\n",
    "    # Choose two random positions to swap\n",
    "    i, j = random.sample(range(n), 2)\n",
    "    \n",
    "    # Record which cards moved from their original position\n",
    "    #if i+1 == deck[i]:\n",
    "    #if j+1 == deck[j]:\n",
    "    moved_cards.add(deck[i])\n",
    "    moved_cards.add(deck[j])\n",
    "\n",
    "        \n",
    "    deck[i], deck[j] = deck[j], deck[i]\n",
    "    \n",
    "    # Create HTML string with colored cards\n",
    "    html_str = f\"Shuffles performed: {loop_counter}<br>\"\n",
    "    for pos, card in enumerate(deck):\n",
    "        # If card is in original position (card == pos+1), make it red\n",
    "        color = \"red\" if card == pos+1 else \"white\"\n",
    "        html_str += f'<span style=\"color: {color}\">{num_to_card(card)}</span>'\n",
    "        if pos < n-1:\n",
    "            html_str += \", \"\n",
    "    \n",
    "    # Display the current state\n",
    "    clear_output(wait=True)\n",
    "    display(HTML(html_str))\n",
    "    time.sleep(0.1)\n",
    "    \n",
    "    # Exit if all cards have moved at least once\n",
    "    if len(moved_cards) == n:\n",
    "        break\n",
    "\n"
   ]
  },
  {
   "cell_type": "markdown",
   "metadata": {},
   "source": [
    "Let's change from random transpositions to another classic shuffle.  This time.  We'll take the top card off the deck and put it at a random location in the deck."
   ]
  },
  {
   "cell_type": "code",
   "execution_count": 3,
   "metadata": {},
   "outputs": [
    {
     "data": {
      "text/html": [
       "Shuffles performed: 136<br><span style=\"color: white\">23</span>, <span style=\"color: white\">28</span>, <span style=\"color: white\">46</span>, <span style=\"color: white\">43</span>, <span style=\"color: white\">2</span>, <span style=\"color: white\">31</span>, <span style=\"color: white\">29</span>, <span style=\"color: white\">33</span>, <span style=\"color: white\">47</span>, <span style=\"color: white\">38</span>, <span style=\"color: white\">51</span>, <span style=\"color: white\">41</span>, <span style=\"color: white\">26</span>, <span style=\"color: white\">34</span>, <span style=\"color: white\">40</span>, <span style=\"color: white\">5</span>, <span style=\"color: white\">20</span>, <span style=\"color: white\">25</span>, <span style=\"color: white\">4</span>, <span style=\"color: white\">18</span>, <span style=\"color: white\">24</span>, <span style=\"color: white\">13</span>, <span style=\"color: white\">11</span>, <span style=\"color: white\">37</span>, <span style=\"color: white\">50</span>, <span style=\"color: white\">9</span>, <span style=\"color: red\">27</span>, <span style=\"color: white\">15</span>, <span style=\"color: white\">36</span>, <span style=\"color: white\">8</span>, <span style=\"color: white\">14</span>, <span style=\"color: white\">22</span>, <span style=\"color: white\">6</span>, <span style=\"color: white\">12</span>, <span style=\"color: white\">19</span>, <span style=\"color: white\">1</span>, <span style=\"color: white\">17</span>, <span style=\"color: white\">32</span>, <span style=\"color: white\">52</span>, <span style=\"color: white\">16</span>, <span style=\"color: white\">35</span>, <span style=\"color: white\">3</span>, <span style=\"color: white\">10</span>, <span style=\"color: white\">7</span>, <span style=\"color: white\">30</span>, <span style=\"color: white\">45</span>, <span style=\"color: white\">48</span>, <span style=\"color: white\">49</span>, <span style=\"color: white\">21</span>, <span style=\"color: white\">39</span>, <span style=\"color: white\">42</span>, <span style=\"color: white\">44</span>"
      ],
      "text/plain": [
       "<IPython.core.display.HTML object>"
      ]
     },
     "metadata": {},
     "output_type": "display_data"
    }
   ],
   "source": [
    "# Initialize deck\n",
    "deck = list(range(1, n+1))\n",
    "\n",
    "# Keep track of which cards have moved\n",
    "moved_cards = set()\n",
    "loop_counter = 0\n",
    "\n",
    "while True:\n",
    "    loop_counter += 1\n",
    "    \n",
    "    # Take top card and insert it at random position\n",
    "    top_card = deck[0]\n",
    "    insert_pos = random.randint(1, n-1)  # Random position excluding current top\n",
    "    \n",
    "    # Shift cards up and insert top card\n",
    "    deck.pop(0)\n",
    "    deck.insert(insert_pos, top_card)\n",
    "    \n",
    "    # Record moved cards\n",
    "    moved_cards.add(top_card)\n",
    "    \n",
    "    # Create HTML string with colored cards\n",
    "    html_str = f\"Shuffles performed: {loop_counter}<br>\"\n",
    "    for pos, card in enumerate(deck):\n",
    "        # If card is in original position (card == pos+1), make it red\n",
    "        color = \"red\" if card == pos+1 else \"white\"\n",
    "        html_str += f'<span style=\"color: {color}\">{num_to_card(card)}</span>'\n",
    "        if pos < n-1:\n",
    "            html_str += \", \"\n",
    "    \n",
    "    # Display the current state\n",
    "    clear_output(wait=True)\n",
    "    display(HTML(html_str))\n",
    "    time.sleep(0.1)\n",
    "    \n",
    "    # Exit if all cards have moved at least once\n",
    "    if len(moved_cards) == n:\n",
    "        break\n"
   ]
  }
 ],
 "metadata": {
  "kernelspec": {
   "display_name": "e-py",
   "language": "python",
   "name": "python3"
  },
  "language_info": {
   "codemirror_mode": {
    "name": "ipython",
    "version": 3
   },
   "file_extension": ".py",
   "mimetype": "text/x-python",
   "name": "python",
   "nbconvert_exporter": "python",
   "pygments_lexer": "ipython3",
   "version": "3.12.8"
  }
 },
 "nbformat": 4,
 "nbformat_minor": 2
}
