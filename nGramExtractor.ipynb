{
 "cells": [
  {
   "cell_type": "markdown",
   "metadata": {},
   "source": [
    "This file extracts n-gram statistics from the text of Jane Austen's novels."
   ]
  },
  {
   "cell_type": "code",
   "execution_count": 6,
   "metadata": {},
   "outputs": [],
   "source": [
    "from tqdm import tqdm"
   ]
  },
  {
   "cell_type": "code",
   "execution_count": 12,
   "metadata": {},
   "outputs": [],
   "source": [
    "# Read the text file containing Jane Austen's novels\n",
    "with open('AustenCompleteGutenberg.txt', 'r', encoding='windows-1252') as file:\n",
    "    austen_text = file.read()\n",
    "    \n",
    "# Define the alphabet (lowercase letters and space)\n",
    "alphabeta = set('abcdefghijklmnopqrstuvwxyz ')\n",
    "\n",
    "# Initialize the trigram dictionary\n",
    "trigram_counts = {}\n",
    "\n",
    "# Initialize all possible trigram combinations with count 0\n",
    "for c1 in alphabeta:\n",
    "    for c2 in alphabeta:\n",
    "        for c3 in alphabeta:\n",
    "            trigram_counts[(c1, c2, c3)] = 0\n"
   ]
  },
  {
   "cell_type": "code",
   "execution_count": 13,
   "metadata": {},
   "outputs": [
    {
     "name": "stderr",
     "output_type": "stream",
     "text": [
      "100%|██████████| 4373595/4373595 [00:02<00:00, 2075266.45it/s]\n"
     ]
    }
   ],
   "source": [
    "# Get the first 1000 characters of the text\n",
    "text_sample = austen_text\n",
    "\n",
    "# Iterate over all consecutive triples\n",
    "for i in tqdm(range(len(text_sample)-2)):\n",
    "    # Get three consecutive characters and convert to lowercase\n",
    "    c1, c2, c3 = text_sample[i:i+3].lower()\n",
    "    \n",
    "    # Check if all characters are in our alphabet\n",
    "    if c1 in alphabeta and c2 in alphabeta and c3 in alphabeta:\n",
    "        trigram_counts[(c1, c2, c3)] += 1\n"
   ]
  },
  {
   "cell_type": "code",
   "execution_count": 14,
   "metadata": {},
   "outputs": [],
   "source": [
    "import pickle\n",
    "\n",
    "# Save the trigram counts to a file\n",
    "with open('trigram_counts.pkl', 'wb') as f:\n",
    "    pickle.dump(trigram_counts, f)\n"
   ]
  }
 ],
 "metadata": {
  "kernelspec": {
   "display_name": "e-py",
   "language": "python",
   "name": "python3"
  },
  "language_info": {
   "codemirror_mode": {
    "name": "ipython",
    "version": 3
   },
   "file_extension": ".py",
   "mimetype": "text/x-python",
   "name": "python",
   "nbconvert_exporter": "python",
   "pygments_lexer": "ipython3",
   "version": "3.10.6"
  }
 },
 "nbformat": 4,
 "nbformat_minor": 2
}
